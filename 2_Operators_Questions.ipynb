{
 "cells": [
  {
   "cell_type": "code",
   "execution_count": 7,
   "metadata": {},
   "outputs": [
    {
     "name": "stdout",
     "output_type": "stream",
     "text": [
      "15 , 5\n"
     ]
    }
   ],
   "source": [
    "# 1 .Question | Write a program to print 15,5,2 and 0 ,use the approriate operator\n",
    "\n",
    "a = 10\n",
    "b = 5\n",
    "print(a+b,\",\",b)\n",
    "\n",
    "\n",
    "\n",
    "\n",
    "\n",
    "\n"
   ]
  },
  {
   "cell_type": "code",
   "execution_count": 8,
   "metadata": {},
   "outputs": [
    {
     "name": "stdout",
     "output_type": "stream",
     "text": [
      "9\n"
     ]
    }
   ],
   "source": [
    "# 2 .Question | write a code to print 9 , use the approriate operator\n",
    "a = 3\n",
    "b = 2\n",
    "\n",
    "print(3**2)\n"
   ]
  },
  {
   "cell_type": "code",
   "execution_count": 11,
   "metadata": {},
   "outputs": [
    {
     "name": "stdout",
     "output_type": "stream",
     "text": [
      "10\n"
     ]
    }
   ],
   "source": [
    "# 4 .Question | # write a code to print 2 , 2.25 and 1 , use the approriate operator\n",
    "\n",
    "x = 9\n",
    "y = 4\n",
    "\n",
    "print(\n",
    "\n",
    "\n",
    "\n",
    "\n"
   ]
  },
  {
   "cell_type": "code",
   "execution_count": 16,
   "metadata": {},
   "outputs": [
    {
     "name": "stdout",
     "output_type": "stream",
     "text": [
      "false\n"
     ]
    }
   ],
   "source": [
    "# 5 .Question |  # write a code print True ,use the approriate operator\n",
    "\n",
    "a = 10\n",
    "b = 5\n",
    "\n",
    "if a<b:\n",
    "    print(\"true\")\n",
    "else:\n",
    "    print(\"false\")\n",
    "\n",
    "\n",
    "\n",
    "\n"
   ]
  },
  {
   "cell_type": "code",
   "execution_count": 30,
   "metadata": {},
   "outputs": [],
   "source": [
    "# 5 .Question | # # write a code print Fale\n",
    "\n",
    "a = 15\n",
    "b = 15 \n",
    "\n",
    "if (a!=b):\n",
    "    print(\"false\")\n",
    "\n",
    "\n",
    "\n",
    "\n"
   ]
  },
  {
   "cell_type": "code",
   "execution_count": 29,
   "metadata": {},
   "outputs": [
    {
     "name": "stdout",
     "output_type": "stream",
     "text": [
      "true\n"
     ]
    }
   ],
   "source": [
    "# 6 .Question | # # write a code print True\n",
    "\n",
    "a = 24\n",
    "b = 24\n",
    "\n",
    "if a==b:\n",
    "    print(\"true\")\n",
    "\n",
    "\n",
    "\n",
    "\n"
   ]
  },
  {
   "cell_type": "code",
   "execution_count": 42,
   "metadata": {},
   "outputs": [],
   "source": [
    "# 7 .Question | # # write a code print True\n",
    "\n",
    "a = \"python\"\n",
    "b = \"pythhon\"\n",
    "\n",
    "if(a==b):\n",
    "    print(\"true\")\n",
    "\n",
    "\n",
    "\n",
    "\n"
   ]
  },
  {
   "cell_type": "code",
   "execution_count": 36,
   "metadata": {},
   "outputs": [
    {
     "name": "stdout",
     "output_type": "stream",
     "text": [
      "false\n"
     ]
    }
   ],
   "source": [
    "# 8 .Question | #  write a code print false using and operator\n",
    "\n",
    "a = 10 \n",
    "b = 20\n",
    "\n",
    "if (a>b and b<a):\n",
    "    print(\"true\")\n",
    "else:\n",
    "    print(\"false\")\n",
    "\n",
    "\n"
   ]
  },
  {
   "cell_type": "code",
   "execution_count": 43,
   "metadata": {},
   "outputs": [
    {
     "ename": "SyntaxError",
     "evalue": "invalid syntax (2714908613.py, line 6)",
     "output_type": "error",
     "traceback": [
      "\u001b[1;36m  Cell \u001b[1;32mIn[43], line 6\u001b[1;36m\u001b[0m\n\u001b[1;33m    if (a>b&&b<a):\u001b[0m\n\u001b[1;37m            ^\u001b[0m\n\u001b[1;31mSyntaxError\u001b[0m\u001b[1;31m:\u001b[0m invalid syntax\n"
     ]
    }
   ],
   "source": [
    "# 9 .Question | #  write a code print True using or operator\n",
    "\n",
    "a = 20\n",
    "b = 10 \n",
    "\n",
    "if (a>b&&b<a):\n",
    "    print(\"true\")\n",
    "else:\n",
    "    print(\"false\")\n",
    "\n",
    "\n",
    "\n",
    "\n"
   ]
  },
  {
   "cell_type": "code",
   "execution_count": 38,
   "metadata": {},
   "outputs": [
    {
     "name": "stdout",
     "output_type": "stream",
     "text": [
      "true\n"
     ]
    }
   ],
   "source": [
    "# 10 .Question | #  write a code print True using Not operator\n",
    "\n",
    "a = 20\n",
    "b = 10 \n",
    "\n",
    "if(a is not b):\n",
    "    print(\"true\")\n",
    "\n",
    "\n",
    "\n"
   ]
  },
  {
   "cell_type": "code",
   "execution_count": null,
   "metadata": {},
   "outputs": [],
   "source": []
  }
 ],
 "metadata": {
  "kernelspec": {
   "display_name": "Python 3 (ipykernel)",
   "language": "python",
   "name": "python3"
  },
  "language_info": {
   "codemirror_mode": {
    "name": "ipython",
    "version": 3
   },
   "file_extension": ".py",
   "mimetype": "text/x-python",
   "name": "python",
   "nbconvert_exporter": "python",
   "pygments_lexer": "ipython3",
   "version": "3.11.4"
  }
 },
 "nbformat": 4,
 "nbformat_minor": 2
}
